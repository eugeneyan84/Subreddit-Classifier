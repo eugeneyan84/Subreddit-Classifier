{
 "cells": [
  {
   "cell_type": "markdown",
   "metadata": {},
   "source": [
    "# SubReddit Web Scraping, Analysis & Classification: Preprocessing & Modeling"
   ]
  },
  {
   "cell_type": "markdown",
   "metadata": {},
   "source": [
    "In this notebook, we immediately proceed with reading in the cleaned  subreddit dataset that was prepared in the *Data Cleaning & Analysis* notebook."
   ]
  },
  {
   "cell_type": "markdown",
   "metadata": {
    "ExecuteTime": {
     "end_time": "2020-12-05T05:22:37.100188Z",
     "start_time": "2020-12-05T05:22:37.096285Z"
    }
   },
   "source": [
    "# Preprocessing"
   ]
  },
  {
   "cell_type": "markdown",
   "metadata": {},
   "source": [
    "## Import all necessary libraries"
   ]
  },
  {
   "cell_type": "code",
   "execution_count": 1,
   "metadata": {
    "ExecuteTime": {
     "end_time": "2020-12-06T12:57:00.581473Z",
     "start_time": "2020-12-06T12:56:58.327189Z"
    }
   },
   "outputs": [],
   "source": [
    "import pandas as pd\n",
    "import numpy as np\n",
    "import matplotlib.pyplot as plt\n",
    "from os import listdir\n",
    "from os.path import isfile, join\n",
    "import re\n",
    "import random\n",
    "\n",
    "import nltk\n",
    "from nltk.corpus import stopwords as sw\n",
    "from nltk.stem import WordNetLemmatizer\n",
    "from wordcloud import WordCloud, STOPWORDS\n",
    "\n",
    "from sklearn.feature_extraction.text import CountVectorizer, TfidfVectorizer\n",
    "from sklearn.model_selection import train_test_split\n",
    "from sklearn.naive_bayes import MultinomialNB\n",
    "from sklearn.svm import SVC\n",
    "from sklearn.model_selection import GridSearchCV\n",
    "from sklearn.metrics import plot_confusion_matrix, recall_score"
   ]
  },
  {
   "cell_type": "markdown",
   "metadata": {
    "ExecuteTime": {
     "end_time": "2020-12-05T05:23:17.897287Z",
     "start_time": "2020-12-05T05:23:17.894358Z"
    }
   },
   "source": [
    "## Read in CSV file and inspect data"
   ]
  },
  {
   "cell_type": "code",
   "execution_count": 2,
   "metadata": {
    "ExecuteTime": {
     "end_time": "2020-12-06T12:57:00.618561Z",
     "start_time": "2020-12-06T12:57:00.582448Z"
    }
   },
   "outputs": [],
   "source": [
    "# declare subfolder location of csv files\n",
    "data_subfolder = '../data/'\n",
    "\n",
    "subreddit_df = pd.read_csv(join(data_subfolder, 'subreddits_cleaned.csv'))"
   ]
  },
  {
   "cell_type": "code",
   "execution_count": 3,
   "metadata": {
    "ExecuteTime": {
     "end_time": "2020-12-06T12:57:00.626370Z",
     "start_time": "2020-12-06T12:57:00.620514Z"
    }
   },
   "outputs": [
    {
     "data": {
      "text/plain": [
       "(999, 10)"
      ]
     },
     "execution_count": 3,
     "metadata": {},
     "output_type": "execute_result"
    }
   ],
   "source": [
    "subreddit_df.shape"
   ]
  },
  {
   "cell_type": "code",
   "execution_count": 4,
   "metadata": {
    "ExecuteTime": {
     "end_time": "2020-12-06T12:57:00.647841Z",
     "start_time": "2020-12-06T12:57:00.627345Z"
    }
   },
   "outputs": [
    {
     "data": {
      "text/html": [
       "<div>\n",
       "<style scoped>\n",
       "    .dataframe tbody tr th:only-of-type {\n",
       "        vertical-align: middle;\n",
       "    }\n",
       "\n",
       "    .dataframe tbody tr th {\n",
       "        vertical-align: top;\n",
       "    }\n",
       "\n",
       "    .dataframe thead th {\n",
       "        text-align: right;\n",
       "    }\n",
       "</style>\n",
       "<table border=\"1\" class=\"dataframe\">\n",
       "  <thead>\n",
       "    <tr style=\"text-align: right;\">\n",
       "      <th></th>\n",
       "      <th>title</th>\n",
       "      <th>selftext</th>\n",
       "      <th>target</th>\n",
       "      <th>created_datetime</th>\n",
       "      <th>title_cleaned</th>\n",
       "      <th>post_cleaned</th>\n",
       "      <th>post_word_count</th>\n",
       "      <th>title_word_count</th>\n",
       "      <th>full_text</th>\n",
       "      <th>full_text_no_punctuation</th>\n",
       "    </tr>\n",
       "  </thead>\n",
       "  <tbody>\n",
       "    <tr>\n",
       "      <th>0</th>\n",
       "      <td>Ditching Alexa</td>\n",
       "      <td>I’m really getting tired of the Alexa integrat...</td>\n",
       "      <td>r/homeassistant</td>\n",
       "      <td>2020-11-28 04:19:07</td>\n",
       "      <td>Ditching Alexa</td>\n",
       "      <td>I’m really getting tired of the Alexa integrat...</td>\n",
       "      <td>90</td>\n",
       "      <td>2</td>\n",
       "      <td>Ditching Alexa I’m really getting tired of the...</td>\n",
       "      <td>Ditching Alexa I’m really getting tired of the...</td>\n",
       "    </tr>\n",
       "    <tr>\n",
       "      <th>1</th>\n",
       "      <td>A Wake Up Lights based on the next phone alarm...</td>\n",
       "      <td>There is another version [A Wake Up Lights](ht...</td>\n",
       "      <td>r/homeassistant</td>\n",
       "      <td>2020-11-27 22:52:12</td>\n",
       "      <td>A Wake Up Lights based on the next phone alarm...</td>\n",
       "      <td>There is another version [A Wake Up Lights]  t...</td>\n",
       "      <td>582</td>\n",
       "      <td>13</td>\n",
       "      <td>A Wake Up Lights based on the next phone alarm...</td>\n",
       "      <td>A Wake Up Lights based on the next phone alarm...</td>\n",
       "    </tr>\n",
       "    <tr>\n",
       "      <th>2</th>\n",
       "      <td>Moonraker data in Home Assistant revisited</td>\n",
       "      <td>NaN</td>\n",
       "      <td>r/homeassistant</td>\n",
       "      <td>2020-11-27 09:33:08</td>\n",
       "      <td>Moonraker data in Home Assistant revisited</td>\n",
       "      <td>NaN</td>\n",
       "      <td>0</td>\n",
       "      <td>6</td>\n",
       "      <td>Moonraker data in Home Assistant revisited</td>\n",
       "      <td>Moonraker data in Home Assistant revisited</td>\n",
       "    </tr>\n",
       "  </tbody>\n",
       "</table>\n",
       "</div>"
      ],
      "text/plain": [
       "                                               title  \\\n",
       "0                                     Ditching Alexa   \n",
       "1  A Wake Up Lights based on the next phone alarm...   \n",
       "2         Moonraker data in Home Assistant revisited   \n",
       "\n",
       "                                            selftext           target  \\\n",
       "0  I’m really getting tired of the Alexa integrat...  r/homeassistant   \n",
       "1  There is another version [A Wake Up Lights](ht...  r/homeassistant   \n",
       "2                                                NaN  r/homeassistant   \n",
       "\n",
       "      created_datetime                                      title_cleaned  \\\n",
       "0  2020-11-28 04:19:07                                     Ditching Alexa   \n",
       "1  2020-11-27 22:52:12  A Wake Up Lights based on the next phone alarm...   \n",
       "2  2020-11-27 09:33:08         Moonraker data in Home Assistant revisited   \n",
       "\n",
       "                                        post_cleaned  post_word_count  \\\n",
       "0  I’m really getting tired of the Alexa integrat...               90   \n",
       "1  There is another version [A Wake Up Lights]  t...              582   \n",
       "2                                                NaN                0   \n",
       "\n",
       "   title_word_count                                          full_text  \\\n",
       "0                 2  Ditching Alexa I’m really getting tired of the...   \n",
       "1                13  A Wake Up Lights based on the next phone alarm...   \n",
       "2                 6        Moonraker data in Home Assistant revisited    \n",
       "\n",
       "                            full_text_no_punctuation  \n",
       "0  Ditching Alexa I’m really getting tired of the...  \n",
       "1  A Wake Up Lights based on the next phone alarm...  \n",
       "2         Moonraker data in Home Assistant revisited  "
      ]
     },
     "execution_count": 4,
     "metadata": {},
     "output_type": "execute_result"
    }
   ],
   "source": [
    "subreddit_df.head(3)"
   ]
  },
  {
   "cell_type": "markdown",
   "metadata": {},
   "source": [
    "## Map target column to numeral format\n",
    "\n",
    "At this point, we decided that we want to predict for r/homeautomation posts as they fit the criteria of our business problem (i.e. to explore user issues with commerical smart-home devices). \n",
    "\n",
    "We herely assign r/homeautomation to be 1, and r/homeassistant to be 0:"
   ]
  },
  {
   "cell_type": "code",
   "execution_count": 5,
   "metadata": {
    "ExecuteTime": {
     "end_time": "2020-12-06T12:57:00.735681Z",
     "start_time": "2020-12-06T12:57:00.648817Z"
    }
   },
   "outputs": [
    {
     "data": {
      "text/plain": [
       "r/homeassistant     0.500501\n",
       "r/homeautomation    0.499499\n",
       "Name: target, dtype: float64"
      ]
     },
     "execution_count": 5,
     "metadata": {},
     "output_type": "execute_result"
    }
   ],
   "source": [
    "subreddit_df.loc[:,'target'].value_counts(normalize=True)"
   ]
  },
  {
   "cell_type": "code",
   "execution_count": 6,
   "metadata": {
    "ExecuteTime": {
     "end_time": "2020-12-06T12:57:00.745441Z",
     "start_time": "2020-12-06T12:57:00.736657Z"
    }
   },
   "outputs": [
    {
     "data": {
      "text/plain": [
       "0    0.500501\n",
       "1    0.499499\n",
       "Name: target, dtype: float64"
      ]
     },
     "execution_count": 6,
     "metadata": {},
     "output_type": "execute_result"
    }
   ],
   "source": [
    "# map targets as follows:\n",
    "#           0 for r/homeassistant (negative class)\n",
    "#           1 for r/homeautomation (positive class)\n",
    "subreddit_df.loc[:,'target'] = subreddit_df.loc[:,'target'].map({'r/homeassistant': 0, 'r/homeautomation': 1})\n",
    "subreddit_df.loc[:,'target'].value_counts(normalize=True)"
   ]
  },
  {
   "cell_type": "markdown",
   "metadata": {
    "ExecuteTime": {
     "end_time": "2020-12-05T05:33:01.401047Z",
     "start_time": "2020-12-05T05:33:01.397143Z"
    }
   },
   "source": [
    "## Re-create custom stopwords list"
   ]
  },
  {
   "cell_type": "code",
   "execution_count": 7,
   "metadata": {
    "ExecuteTime": {
     "end_time": "2020-12-06T12:57:00.864555Z",
     "start_time": "2020-12-06T12:57:00.746417Z"
    }
   },
   "outputs": [
    {
     "name": "stdout",
     "output_type": "stream",
     "text": [
      "nltk stopword list-size: 179\n",
      "sklearn stopword list-size: 318\n",
      "wordcloud stopword list-size: 195\n",
      "custom stopword list-size: 417\n"
     ]
    }
   ],
   "source": [
    "# nltk stopwords\n",
    "nltk_stopwords = set(sw.words('english'))\n",
    "\n",
    "# sklearn stopwords\n",
    "sklearn_stopwords = list(CountVectorizer(stop_words = 'english').get_stop_words())\n",
    "\n",
    "# wordcloud stopwords\n",
    "wordcloud_stopwords = set(STOPWORDS)\n",
    "#improvement\n",
    "wordcloud_stopwords.update([\"home\", \"assistant\", \"automation\"])\n",
    "\n",
    "print('nltk stopword list-size: {}'.format(len(nltk_stopwords)))\n",
    "print('sklearn stopword list-size: {}'.format(len(sklearn_stopwords)))\n",
    "print('wordcloud stopword list-size: {}'.format(len(wordcloud_stopwords)))\n",
    "\n",
    "custom_stopwords = set(list(nltk_stopwords) + sklearn_stopwords + list(wordcloud_stopwords))\n",
    "#custom_stopwords.update([\"I'm\", \"thank\", \"I’m\", \"I’ve\", \"i’m\", \"it's\", \"house\"])\n",
    "print('custom stopword list-size: {}'.format(len(custom_stopwords)))"
   ]
  },
  {
   "cell_type": "markdown",
   "metadata": {
    "ExecuteTime": {
     "end_time": "2020-12-05T05:30:56.260299Z",
     "start_time": "2020-12-05T05:30:56.257370Z"
    }
   },
   "source": [
    "## Lemmatize text data"
   ]
  },
  {
   "cell_type": "code",
   "execution_count": 8,
   "metadata": {
    "ExecuteTime": {
     "end_time": "2020-12-06T12:57:00.878176Z",
     "start_time": "2020-12-06T12:57:00.869393Z"
    }
   },
   "outputs": [],
   "source": [
    "def stop_and_lemmatize_text(text):\n",
    "    word_list = [word.lower() for word in re.findall(r'\\S+', text) if word not in custom_stopwords]\n",
    "\n",
    "    wnl = WordNetLemmatizer()\n",
    "    processed_words = [wnl.lemmatize(term) for term in word_list]\n",
    "    \n",
    "    return(' '.join(processed_words))"
   ]
  },
  {
   "cell_type": "code",
   "execution_count": 9,
   "metadata": {
    "ExecuteTime": {
     "end_time": "2020-12-06T12:57:02.694437Z",
     "start_time": "2020-12-06T12:57:00.880129Z"
    },
    "scrolled": false
   },
   "outputs": [
    {
     "data": {
      "text/html": [
       "<div>\n",
       "<style scoped>\n",
       "    .dataframe tbody tr th:only-of-type {\n",
       "        vertical-align: middle;\n",
       "    }\n",
       "\n",
       "    .dataframe tbody tr th {\n",
       "        vertical-align: top;\n",
       "    }\n",
       "\n",
       "    .dataframe thead th {\n",
       "        text-align: right;\n",
       "    }\n",
       "</style>\n",
       "<table border=\"1\" class=\"dataframe\">\n",
       "  <thead>\n",
       "    <tr style=\"text-align: right;\">\n",
       "      <th></th>\n",
       "      <th>title</th>\n",
       "      <th>selftext</th>\n",
       "      <th>target</th>\n",
       "      <th>created_datetime</th>\n",
       "      <th>title_cleaned</th>\n",
       "      <th>post_cleaned</th>\n",
       "      <th>post_word_count</th>\n",
       "      <th>title_word_count</th>\n",
       "      <th>full_text</th>\n",
       "      <th>full_text_no_punctuation</th>\n",
       "      <th>processed_full_text</th>\n",
       "    </tr>\n",
       "  </thead>\n",
       "  <tbody>\n",
       "    <tr>\n",
       "      <th>0</th>\n",
       "      <td>Ditching Alexa</td>\n",
       "      <td>I’m really getting tired of the Alexa integrat...</td>\n",
       "      <td>0</td>\n",
       "      <td>2020-11-28 04:19:07</td>\n",
       "      <td>Ditching Alexa</td>\n",
       "      <td>I’m really getting tired of the Alexa integrat...</td>\n",
       "      <td>90</td>\n",
       "      <td>2</td>\n",
       "      <td>Ditching Alexa I’m really getting tired of the...</td>\n",
       "      <td>Ditching Alexa I’m really getting tired of the...</td>\n",
       "      <td>ditching alexa i’m really getting tired alexa ...</td>\n",
       "    </tr>\n",
       "    <tr>\n",
       "      <th>1</th>\n",
       "      <td>A Wake Up Lights based on the next phone alarm...</td>\n",
       "      <td>There is another version [A Wake Up Lights](ht...</td>\n",
       "      <td>0</td>\n",
       "      <td>2020-11-27 22:52:12</td>\n",
       "      <td>A Wake Up Lights based on the next phone alarm...</td>\n",
       "      <td>There is another version [A Wake Up Lights]  t...</td>\n",
       "      <td>582</td>\n",
       "      <td>13</td>\n",
       "      <td>A Wake Up Lights based on the next phone alarm...</td>\n",
       "      <td>A Wake Up Lights based on the next phone alarm...</td>\n",
       "      <td>a wake up light based phone alarm sharing sett...</td>\n",
       "    </tr>\n",
       "    <tr>\n",
       "      <th>2</th>\n",
       "      <td>Moonraker data in Home Assistant revisited</td>\n",
       "      <td>NaN</td>\n",
       "      <td>0</td>\n",
       "      <td>2020-11-27 09:33:08</td>\n",
       "      <td>Moonraker data in Home Assistant revisited</td>\n",
       "      <td>NaN</td>\n",
       "      <td>0</td>\n",
       "      <td>6</td>\n",
       "      <td>Moonraker data in Home Assistant revisited</td>\n",
       "      <td>Moonraker data in Home Assistant revisited</td>\n",
       "      <td>moonraker data home assistant revisited</td>\n",
       "    </tr>\n",
       "    <tr>\n",
       "      <th>3</th>\n",
       "      <td>Peanut Plug Firmware Upgrade Tutorial -ZHA</td>\n",
       "      <td>We finally have a way to upgrade Peanut Plugs ...</td>\n",
       "      <td>0</td>\n",
       "      <td>2020-11-27 23:25:34</td>\n",
       "      <td>Peanut Plug Firmware Upgrade Tutorial -ZHA</td>\n",
       "      <td>We finally have a way to upgrade Peanut Plugs ...</td>\n",
       "      <td>335</td>\n",
       "      <td>6</td>\n",
       "      <td>Peanut Plug Firmware Upgrade Tutorial -ZHA We ...</td>\n",
       "      <td>Peanut Plug Firmware Upgrade Tutorial ZHA We f...</td>\n",
       "      <td>peanut plug firmware upgrade tutorial zha we f...</td>\n",
       "    </tr>\n",
       "    <tr>\n",
       "      <th>4</th>\n",
       "      <td>Hey Home Assistant squad! With Black Friday / ...</td>\n",
       "      <td>2020 seems to be the world of WiFi or Zigbee -...</td>\n",
       "      <td>0</td>\n",
       "      <td>2020-11-27 21:59:50</td>\n",
       "      <td>Hey Home Assistant squad! With Black Friday / ...</td>\n",
       "      <td>2020 seems to be the world of WiFi or Zigbee -...</td>\n",
       "      <td>177</td>\n",
       "      <td>23</td>\n",
       "      <td>Hey Home Assistant squad! With Black Friday / ...</td>\n",
       "      <td>Hey Home Assistant squad With Black Friday  Cy...</td>\n",
       "      <td>hey home assistant squad with black friday cyb...</td>\n",
       "    </tr>\n",
       "  </tbody>\n",
       "</table>\n",
       "</div>"
      ],
      "text/plain": [
       "                                               title  \\\n",
       "0                                     Ditching Alexa   \n",
       "1  A Wake Up Lights based on the next phone alarm...   \n",
       "2         Moonraker data in Home Assistant revisited   \n",
       "3         Peanut Plug Firmware Upgrade Tutorial -ZHA   \n",
       "4  Hey Home Assistant squad! With Black Friday / ...   \n",
       "\n",
       "                                            selftext  target  \\\n",
       "0  I’m really getting tired of the Alexa integrat...       0   \n",
       "1  There is another version [A Wake Up Lights](ht...       0   \n",
       "2                                                NaN       0   \n",
       "3  We finally have a way to upgrade Peanut Plugs ...       0   \n",
       "4  2020 seems to be the world of WiFi or Zigbee -...       0   \n",
       "\n",
       "      created_datetime                                      title_cleaned  \\\n",
       "0  2020-11-28 04:19:07                                     Ditching Alexa   \n",
       "1  2020-11-27 22:52:12  A Wake Up Lights based on the next phone alarm...   \n",
       "2  2020-11-27 09:33:08         Moonraker data in Home Assistant revisited   \n",
       "3  2020-11-27 23:25:34         Peanut Plug Firmware Upgrade Tutorial -ZHA   \n",
       "4  2020-11-27 21:59:50  Hey Home Assistant squad! With Black Friday / ...   \n",
       "\n",
       "                                        post_cleaned  post_word_count  \\\n",
       "0  I’m really getting tired of the Alexa integrat...               90   \n",
       "1  There is another version [A Wake Up Lights]  t...              582   \n",
       "2                                                NaN                0   \n",
       "3  We finally have a way to upgrade Peanut Plugs ...              335   \n",
       "4  2020 seems to be the world of WiFi or Zigbee -...              177   \n",
       "\n",
       "   title_word_count                                          full_text  \\\n",
       "0                 2  Ditching Alexa I’m really getting tired of the...   \n",
       "1                13  A Wake Up Lights based on the next phone alarm...   \n",
       "2                 6        Moonraker data in Home Assistant revisited    \n",
       "3                 6  Peanut Plug Firmware Upgrade Tutorial -ZHA We ...   \n",
       "4                23  Hey Home Assistant squad! With Black Friday / ...   \n",
       "\n",
       "                            full_text_no_punctuation  \\\n",
       "0  Ditching Alexa I’m really getting tired of the...   \n",
       "1  A Wake Up Lights based on the next phone alarm...   \n",
       "2         Moonraker data in Home Assistant revisited   \n",
       "3  Peanut Plug Firmware Upgrade Tutorial ZHA We f...   \n",
       "4  Hey Home Assistant squad With Black Friday  Cy...   \n",
       "\n",
       "                                 processed_full_text  \n",
       "0  ditching alexa i’m really getting tired alexa ...  \n",
       "1  a wake up light based phone alarm sharing sett...  \n",
       "2            moonraker data home assistant revisited  \n",
       "3  peanut plug firmware upgrade tutorial zha we f...  \n",
       "4  hey home assistant squad with black friday cyb...  "
      ]
     },
     "execution_count": 9,
     "metadata": {},
     "output_type": "execute_result"
    }
   ],
   "source": [
    "subreddit_df.loc[:,'processed_full_text'] = subreddit_df.loc[:,'full_text_no_punctuation'].apply(stop_and_lemmatize_text)\n",
    "subreddit_df.head(5)"
   ]
  },
  {
   "cell_type": "markdown",
   "metadata": {},
   "source": [
    "## Define metrics for scoring models\n",
    "\n",
    "For purpose of evaluating the models built in this section, we would be using a few metrics to understand and compare the models' performances:"
   ]
  },
  {
   "cell_type": "markdown",
   "metadata": {},
   "source": [
    "### Test-set Accuracy Score\n",
    "\n",
    "Accuracy score for a classifier is calculated by the proportion of correctly classified observations, based on the total number of observations. It ranges between 0.0 (all observations classified wrongly) to 1.0 (all observations classified corectly).\n",
    "\n",
    "\n",
    "<b>Accuracy Score = (TP + TN) / n\n",
    "\n",
    "    TP: number of correctly classified r/homeautomation posts\n",
    "    TN: number of correctly classified r/homeassistant posts\n",
    "    n: total number of observations\n",
    "</b>\n",
    "\n",
    "Scoring from train-set is logically available too, since the model is being fitted with training data and we could evaluate the model's performance on seen data. However, to get a gauge of the ability of the trained model to generalize to unseen data, we would be relying on the Test-set Accuracy Score."
   ]
  },
  {
   "cell_type": "markdown",
   "metadata": {},
   "source": [
    "### Recall Score\n",
    "\n",
    "For purpose of this project, we weigh the importance of correct classification of r/homeautomation (positive class) to be our priority. In this case, we would want to optimize for *Sensitivity* (True Positive Rate, also known as <b>Recall</b>), which is the ratio of the total number of correctly classified r/homeautomation posts (true positive), and the actual number of r/homeautomation posts (sum of true positives and false negatives, the latter being incorrectly classified r/homeautomation posts):\n",
    "\n",
    "<b>recall score = TP / (TP + FN)\n",
    "\n",
    "    TP: number of correctly classified r/homeautomation posts\n",
    "    FN: number of incorrectly classified r/homeautomation posts\n",
    "</b>\n",
    "\n",
    "Here, we will strive to minimize the number of *false negatives*, which are misclassified r/homeautomation posts."
   ]
  },
  {
   "cell_type": "markdown",
   "metadata": {},
   "source": [
    "## Define baseline score\n",
    "\n",
    "Based on the above *value_counts()*, we can set the baseline accuracy score to be 50.1% for guessing the majority class all the time."
   ]
  },
  {
   "cell_type": "markdown",
   "metadata": {},
   "source": [
    "## Create score table for keeping track of model performance"
   ]
  },
  {
   "cell_type": "code",
   "execution_count": 10,
   "metadata": {
    "ExecuteTime": {
     "end_time": "2020-12-06T12:57:02.709100Z",
     "start_time": "2020-12-06T12:57:02.696388Z"
    }
   },
   "outputs": [
    {
     "data": {
      "text/html": [
       "<div>\n",
       "<style scoped>\n",
       "    .dataframe tbody tr th:only-of-type {\n",
       "        vertical-align: middle;\n",
       "    }\n",
       "\n",
       "    .dataframe tbody tr th {\n",
       "        vertical-align: top;\n",
       "    }\n",
       "\n",
       "    .dataframe thead th {\n",
       "        text-align: right;\n",
       "    }\n",
       "</style>\n",
       "<table border=\"1\" class=\"dataframe\">\n",
       "  <thead>\n",
       "    <tr style=\"text-align: right;\">\n",
       "      <th></th>\n",
       "      <th>model_name</th>\n",
       "      <th>params</th>\n",
       "      <th>Train-Set Acc. Score</th>\n",
       "      <th>Test-Set Acc. Score</th>\n",
       "      <th>Recall Score</th>\n",
       "    </tr>\n",
       "  </thead>\n",
       "  <tbody>\n",
       "    <tr>\n",
       "      <th>0</th>\n",
       "      <td>Baseline</td>\n",
       "      <td>N.A.</td>\n",
       "      <td>50.1</td>\n",
       "      <td>50.1</td>\n",
       "      <td>N.A.</td>\n",
       "    </tr>\n",
       "  </tbody>\n",
       "</table>\n",
       "</div>"
      ],
      "text/plain": [
       "  model_name params Train-Set Acc. Score Test-Set Acc. Score Recall Score\n",
       "0   Baseline   N.A.                 50.1                50.1         N.A."
      ]
     },
     "execution_count": 10,
     "metadata": {},
     "output_type": "execute_result"
    }
   ],
   "source": [
    "model_performance_df = pd.DataFrame(columns=['model_name', 'params', 'Train-Set Acc. Score', 'Test-Set Acc. Score', 'Recall Score'])\n",
    "new_index = len(model_performance_df)\n",
    "model_performance_df.loc[new_index, 'model_name'] = 'Baseline'\n",
    "model_performance_df.loc[new_index, 'params'] = 'N.A.'\n",
    "model_performance_df.loc[new_index, 'Train-Set Acc. Score'] = 50.1\n",
    "model_performance_df.loc[new_index, 'Test-Set Acc. Score'] = 50.1\n",
    "model_performance_df.loc[new_index, 'Recall Score'] = 'N.A.'\n",
    "model_performance_df"
   ]
  },
  {
   "cell_type": "code",
   "execution_count": 11,
   "metadata": {
    "ExecuteTime": {
     "end_time": "2020-12-06T12:57:02.719812Z",
     "start_time": "2020-12-06T12:57:02.710052Z"
    }
   },
   "outputs": [],
   "source": [
    "# define a helper function to keep track of model performance scores\n",
    "def record_model_score(model_name, params, train_acc_score, test_acc_score, recall_score):\n",
    "    if model_name in list(model_performance_df.loc[:, 'model_name']):\n",
    "        new_index = model_performance_df.loc[model_performance_df.loc[:, 'model_name']==model_name, :].index\n",
    "    else:\n",
    "        new_index = len(model_performance_df)\n",
    "    model_performance_df.loc[new_index, 'model_name'] = model_name\n",
    "    model_performance_df.loc[new_index, 'params'] = params\n",
    "    model_performance_df.loc[new_index, 'Train-Set Acc. Score'] = np.round(float(train_acc_score) * 100, 1)\n",
    "    model_performance_df.loc[new_index, 'Test-Set Acc. Score'] = np.round(float(test_acc_score) * 100, 1)\n",
    "    model_performance_df.loc[new_index, 'Recall Score'] = float(recall_score)"
   ]
  },
  {
   "cell_type": "markdown",
   "metadata": {},
   "source": [
    "## Split data into train and test sets"
   ]
  },
  {
   "cell_type": "code",
   "execution_count": 12,
   "metadata": {
    "ExecuteTime": {
     "end_time": "2020-12-06T12:57:02.809604Z",
     "start_time": "2020-12-06T12:57:02.721764Z"
    }
   },
   "outputs": [
    {
     "name": "stdout",
     "output_type": "stream",
     "text": [
      "After train_test_split:\n",
      "X_train shape: (749,)\n",
      "X_test shape: (250,)\n",
      "y_train shape: (749,)\n",
      "y_test shape: (250,)\n"
     ]
    }
   ],
   "source": [
    "X = subreddit_df.loc[:,'processed_full_text']\n",
    "y = subreddit_df.loc[:,'target']\n",
    "\n",
    "#print(X.shape)\n",
    "#print(y.shape)\n",
    "\n",
    "X_train, X_test, y_train, y_test = train_test_split(\n",
    "    X, \n",
    "    y,\n",
    "    test_size=0.25,\n",
    "    shuffle=True,\n",
    "    random_state=42,\n",
    "    stratify=y)\n",
    "\n",
    "print('After train_test_split:')\n",
    "print('X_train shape: {}'.format(X_train.shape))\n",
    "print('X_test shape: {}'.format(X_test.shape))\n",
    "print('y_train shape: {}'.format(y_train.shape))\n",
    "print('y_test shape: {}'.format(y_test.shape))"
   ]
  },
  {
   "cell_type": "markdown",
   "metadata": {},
   "source": [
    "## Vectorize training and testing data with TF-IDF Vectorizer"
   ]
  },
  {
   "cell_type": "markdown",
   "metadata": {},
   "source": [
    "Before we can use the subreddit data for creating a classification model, we first have to address the data type issue. Models are mathematical implementations, and so the textual data of both subreddits have to be converted into a set of numbers that could be consumed by the model for training and prediction purposes.\n",
    "\n",
    "This conversion is termed as word vectorization, which is the mapping of words from a vocabulary to a vector of real numbers, which can be subsequently elucidate the underlying aspects of a word, such as its semantics, or similarity with other words.\n",
    "\n",
    "In the previous section of Exploratory Data Analysis, we observed that certain keywords (nouns like *room* vs *device*) appear frequently in one subreddit, and not that much in the other. To create a model that utilises keyword extraction, we can use the Term Frequency-Inverse Document Frequency (TF-IDF) vectorizer to process the textual data. "
   ]
  },
  {
   "cell_type": "code",
   "execution_count": 13,
   "metadata": {
    "ExecuteTime": {
     "end_time": "2020-12-06T12:57:02.814484Z",
     "start_time": "2020-12-06T12:57:02.810579Z"
    }
   },
   "outputs": [],
   "source": [
    "# instantiate\n",
    "tvec = TfidfVectorizer()"
   ]
  },
  {
   "cell_type": "code",
   "execution_count": 14,
   "metadata": {
    "ExecuteTime": {
     "end_time": "2020-12-06T12:57:02.954052Z",
     "start_time": "2020-12-06T12:57:02.815460Z"
    }
   },
   "outputs": [
    {
     "name": "stdout",
     "output_type": "stream",
     "text": [
      "Number of observations (X_train): 749\n",
      "Number of features (X_train): 6093\n"
     ]
    }
   ],
   "source": [
    "# Vectorize train and test sets\n",
    "X_train_vectorized = tvec.fit_transform(X_train)\n",
    "X_test_vectorized = tvec.transform(X_test)\n",
    "\n",
    "print('Number of observations (X_train): {}'.format(X_train_vectorized.shape[0]))\n",
    "print('Number of features (X_train): {}'.format(X_train_vectorized.shape[1]))"
   ]
  },
  {
   "cell_type": "markdown",
   "metadata": {},
   "source": [
    "The TF-IDF vectorizer has created a sparse matrix of vectors, with 6093 features. We inspect 15 randomly pick features for the first 5 observed records:"
   ]
  },
  {
   "cell_type": "code",
   "execution_count": 15,
   "metadata": {
    "ExecuteTime": {
     "end_time": "2020-12-06T12:57:03.057508Z",
     "start_time": "2020-12-06T12:57:02.955028Z"
    }
   },
   "outputs": [
    {
     "data": {
      "text/html": [
       "<div>\n",
       "<style scoped>\n",
       "    .dataframe tbody tr th:only-of-type {\n",
       "        vertical-align: middle;\n",
       "    }\n",
       "\n",
       "    .dataframe tbody tr th {\n",
       "        vertical-align: top;\n",
       "    }\n",
       "\n",
       "    .dataframe thead th {\n",
       "        text-align: right;\n",
       "    }\n",
       "</style>\n",
       "<table border=\"1\" class=\"dataframe\">\n",
       "  <thead>\n",
       "    <tr style=\"text-align: right;\">\n",
       "      <th></th>\n",
       "      <th>faetures</th>\n",
       "      <th>conbeeii</th>\n",
       "      <th>omg</th>\n",
       "      <th>asus</th>\n",
       "      <th>overview</th>\n",
       "      <th>pixel4xl</th>\n",
       "      <th>continue</th>\n",
       "      <th>wake_up_lights_pavel_minutes</th>\n",
       "      <th>checked</th>\n",
       "      <th>rich</th>\n",
       "      <th>microserver</th>\n",
       "      <th>clear</th>\n",
       "      <th>chris</th>\n",
       "      <th>conjunction</th>\n",
       "      <th>blog</th>\n",
       "    </tr>\n",
       "  </thead>\n",
       "  <tbody>\n",
       "    <tr>\n",
       "      <th>0</th>\n",
       "      <td>0.0</td>\n",
       "      <td>0.0</td>\n",
       "      <td>0.0</td>\n",
       "      <td>0.0</td>\n",
       "      <td>0.0</td>\n",
       "      <td>0.0</td>\n",
       "      <td>0.0</td>\n",
       "      <td>0.0</td>\n",
       "      <td>0.0</td>\n",
       "      <td>0.0</td>\n",
       "      <td>0.0</td>\n",
       "      <td>0.0</td>\n",
       "      <td>0.0</td>\n",
       "      <td>0.0</td>\n",
       "      <td>0.0</td>\n",
       "    </tr>\n",
       "    <tr>\n",
       "      <th>1</th>\n",
       "      <td>0.0</td>\n",
       "      <td>0.0</td>\n",
       "      <td>0.0</td>\n",
       "      <td>0.0</td>\n",
       "      <td>0.0</td>\n",
       "      <td>0.0</td>\n",
       "      <td>0.0</td>\n",
       "      <td>0.0</td>\n",
       "      <td>0.0</td>\n",
       "      <td>0.0</td>\n",
       "      <td>0.0</td>\n",
       "      <td>0.0</td>\n",
       "      <td>0.0</td>\n",
       "      <td>0.0</td>\n",
       "      <td>0.0</td>\n",
       "    </tr>\n",
       "    <tr>\n",
       "      <th>2</th>\n",
       "      <td>0.0</td>\n",
       "      <td>0.0</td>\n",
       "      <td>0.0</td>\n",
       "      <td>0.0</td>\n",
       "      <td>0.0</td>\n",
       "      <td>0.0</td>\n",
       "      <td>0.0</td>\n",
       "      <td>0.0</td>\n",
       "      <td>0.0</td>\n",
       "      <td>0.0</td>\n",
       "      <td>0.0</td>\n",
       "      <td>0.0</td>\n",
       "      <td>0.0</td>\n",
       "      <td>0.0</td>\n",
       "      <td>0.0</td>\n",
       "    </tr>\n",
       "    <tr>\n",
       "      <th>3</th>\n",
       "      <td>0.0</td>\n",
       "      <td>0.0</td>\n",
       "      <td>0.0</td>\n",
       "      <td>0.0</td>\n",
       "      <td>0.0</td>\n",
       "      <td>0.0</td>\n",
       "      <td>0.0</td>\n",
       "      <td>0.0</td>\n",
       "      <td>0.0</td>\n",
       "      <td>0.0</td>\n",
       "      <td>0.0</td>\n",
       "      <td>0.0</td>\n",
       "      <td>0.0</td>\n",
       "      <td>0.0</td>\n",
       "      <td>0.0</td>\n",
       "    </tr>\n",
       "    <tr>\n",
       "      <th>4</th>\n",
       "      <td>0.0</td>\n",
       "      <td>0.0</td>\n",
       "      <td>0.0</td>\n",
       "      <td>0.0</td>\n",
       "      <td>0.0</td>\n",
       "      <td>0.0</td>\n",
       "      <td>0.0</td>\n",
       "      <td>0.0</td>\n",
       "      <td>0.0</td>\n",
       "      <td>0.0</td>\n",
       "      <td>0.0</td>\n",
       "      <td>0.0</td>\n",
       "      <td>0.0</td>\n",
       "      <td>0.0</td>\n",
       "      <td>0.0</td>\n",
       "    </tr>\n",
       "  </tbody>\n",
       "</table>\n",
       "</div>"
      ],
      "text/plain": [
       "   faetures  conbeeii  omg  asus  overview  pixel4xl  continue  \\\n",
       "0       0.0       0.0  0.0   0.0       0.0       0.0       0.0   \n",
       "1       0.0       0.0  0.0   0.0       0.0       0.0       0.0   \n",
       "2       0.0       0.0  0.0   0.0       0.0       0.0       0.0   \n",
       "3       0.0       0.0  0.0   0.0       0.0       0.0       0.0   \n",
       "4       0.0       0.0  0.0   0.0       0.0       0.0       0.0   \n",
       "\n",
       "   wake_up_lights_pavel_minutes  checked  rich  microserver  clear  chris  \\\n",
       "0                           0.0      0.0   0.0          0.0    0.0    0.0   \n",
       "1                           0.0      0.0   0.0          0.0    0.0    0.0   \n",
       "2                           0.0      0.0   0.0          0.0    0.0    0.0   \n",
       "3                           0.0      0.0   0.0          0.0    0.0    0.0   \n",
       "4                           0.0      0.0   0.0          0.0    0.0    0.0   \n",
       "\n",
       "   conjunction  blog  \n",
       "0          0.0   0.0  \n",
       "1          0.0   0.0  \n",
       "2          0.0   0.0  \n",
       "3          0.0   0.0  \n",
       "4          0.0   0.0  "
      ]
     },
     "execution_count": 15,
     "metadata": {},
     "output_type": "execute_result"
    }
   ],
   "source": [
    "df = pd.DataFrame(tvec.fit_transform(X_train).toarray(),\n",
    "                  columns=tvec.get_feature_names())\n",
    "\n",
    "random_15_columns = []\n",
    "\n",
    "# get a list of 15 columns randomly pick from the feature name list\n",
    "for _ in range(0,15):\n",
    "    x = random.randint(0,X_train_vectorized.shape[1]-1)\n",
    "    random_15_columns.append(tvec.get_feature_names()[x])\n",
    "\n",
    "df.loc[0:4,random_15_columns]"
   ]
  },
  {
   "cell_type": "markdown",
   "metadata": {
    "ExecuteTime": {
     "end_time": "2020-12-05T09:33:35.946959Z",
     "start_time": "2020-12-05T09:33:35.934004Z"
    }
   },
   "source": [
    "# Model Creation & Benchmarking"
   ]
  },
  {
   "cell_type": "markdown",
   "metadata": {},
   "source": [
    "## Classifying subreddits with a Naive Bayes model"
   ]
  },
  {
   "cell_type": "markdown",
   "metadata": {
    "ExecuteTime": {
     "end_time": "2020-12-05T07:37:08.342261Z",
     "start_time": "2020-12-05T07:37:08.332316Z"
    }
   },
   "source": [
    "For our 1st model, we will use a Naive Bayes classifier, which assumes independence between predictors, i.e. the presence of a particular word in the text is unrelated to the presence of any other word."
   ]
  },
  {
   "cell_type": "markdown",
   "metadata": {},
   "source": [
    "### Instantiate and fit MultinomialNB\n",
    "\n",
    "First we instantiate a Multinomial Naive Bayes classifier, followed by fitting:"
   ]
  },
  {
   "cell_type": "code",
   "execution_count": 16,
   "metadata": {
    "ExecuteTime": {
     "end_time": "2020-12-06T12:57:03.067267Z",
     "start_time": "2020-12-06T12:57:03.058505Z"
    }
   },
   "outputs": [
    {
     "data": {
      "text/plain": [
       "MultinomialNB()"
      ]
     },
     "execution_count": 16,
     "metadata": {},
     "output_type": "execute_result"
    }
   ],
   "source": [
    "# instantiate model\n",
    "mnnb_model_name = 'MutinomialNB (default)'\n",
    "mnnb_model = MultinomialNB()\n",
    "\n",
    "# fit model with vectorized train-set\n",
    "mnnb_model.fit(X=X_train_vectorized, y=y_train)"
   ]
  },
  {
   "cell_type": "markdown",
   "metadata": {},
   "source": [
    "### Compute MultinomialNB accuracy and recall scores, , and plot Confusion Matrix\n",
    "\n",
    "After fitting, we can immediately compute the accuracy score for the train-set and test-set:"
   ]
  },
  {
   "cell_type": "code",
   "execution_count": 17,
   "metadata": {
    "ExecuteTime": {
     "end_time": "2020-12-06T12:57:03.123875Z",
     "start_time": "2020-12-06T12:57:03.068243Z"
    }
   },
   "outputs": [
    {
     "name": "stdout",
     "output_type": "stream",
     "text": [
      "MutinomialNB Train-set accuracy score: 0.9425901201602136\n",
      "MutinomialNB Test-set accuracy score: 0.816\n",
      "MutinomialNB Recall Score: 0.824\n"
     ]
    }
   ],
   "source": [
    "mnnb_train_acc_score = mnnb_model.score(X_train_vectorized, y_train)\n",
    "mnnb_test_acc_score = mnnb_model.score(X_test_vectorized, y_test)\n",
    "print('MutinomialNB Train-set accuracy score: {}'.format(mnnb_train_acc_score))\n",
    "print('MutinomialNB Test-set accuracy score: {}'.format(mnnb_test_acc_score))\n",
    "\n",
    "mnnb_model_recall_score = recall_score(y_test, mnnb_model.predict(X_test_vectorized))\n",
    "print('MutinomialNB Recall Score: {}'.format(mnnb_model_recall_score))"
   ]
  },
  {
   "cell_type": "code",
   "execution_count": 18,
   "metadata": {
    "ExecuteTime": {
     "end_time": "2020-12-06T12:57:03.137540Z",
     "start_time": "2020-12-06T12:57:03.125828Z"
    }
   },
   "outputs": [
    {
     "data": {
      "text/html": [
       "<div>\n",
       "<style scoped>\n",
       "    .dataframe tbody tr th:only-of-type {\n",
       "        vertical-align: middle;\n",
       "    }\n",
       "\n",
       "    .dataframe tbody tr th {\n",
       "        vertical-align: top;\n",
       "    }\n",
       "\n",
       "    .dataframe thead th {\n",
       "        text-align: right;\n",
       "    }\n",
       "</style>\n",
       "<table border=\"1\" class=\"dataframe\">\n",
       "  <thead>\n",
       "    <tr style=\"text-align: right;\">\n",
       "      <th></th>\n",
       "      <th>model_name</th>\n",
       "      <th>params</th>\n",
       "      <th>Train-Set Acc. Score</th>\n",
       "      <th>Test-Set Acc. Score</th>\n",
       "      <th>Recall Score</th>\n",
       "    </tr>\n",
       "  </thead>\n",
       "  <tbody>\n",
       "    <tr>\n",
       "      <th>0</th>\n",
       "      <td>Baseline</td>\n",
       "      <td>N.A.</td>\n",
       "      <td>50.1</td>\n",
       "      <td>50.1</td>\n",
       "      <td>N.A.</td>\n",
       "    </tr>\n",
       "    <tr>\n",
       "      <th>1</th>\n",
       "      <td>MutinomialNB (default)</td>\n",
       "      <td>alpha=1.0</td>\n",
       "      <td>94.3</td>\n",
       "      <td>81.6</td>\n",
       "      <td>0.824</td>\n",
       "    </tr>\n",
       "  </tbody>\n",
       "</table>\n",
       "</div>"
      ],
      "text/plain": [
       "               model_name     params Train-Set Acc. Score Test-Set Acc. Score  \\\n",
       "0                Baseline       N.A.                 50.1                50.1   \n",
       "1  MutinomialNB (default)  alpha=1.0                 94.3                81.6   \n",
       "\n",
       "  Recall Score  \n",
       "0         N.A.  \n",
       "1        0.824  "
      ]
     },
     "execution_count": 18,
     "metadata": {},
     "output_type": "execute_result"
    }
   ],
   "source": [
    "record_model_score(\n",
    "    mnnb_model_name,\n",
    "    'alpha={}'.format(mnnb_model.alpha),\n",
    "    mnnb_train_acc_score,\n",
    "    mnnb_test_acc_score,\n",
    "    mnnb_model_recall_score\n",
    ")\n",
    "model_performance_df"
   ]
  },
  {
   "cell_type": "markdown",
   "metadata": {},
   "source": [
    "### Generate Confusion Matrix for MultinomialNB"
   ]
  },
  {
   "cell_type": "code",
   "execution_count": 19,
   "metadata": {
    "ExecuteTime": {
     "end_time": "2020-12-06T12:57:03.386420Z",
     "start_time": "2020-12-06T12:57:03.139492Z"
    }
   },
   "outputs": [
    {
     "data": {
      "image/png": "[encoded data removed]",
      "text/plain": [
       "<Figure size 432x288 with 2 Axes>"
      ]
     },
     "metadata": {
      "needs_background": "light"
     },
     "output_type": "display_data"
    }
   ],
   "source": [
    "plot_confusion_matrix(\n",
    "    mnnb_model, \n",
    "    X_test_vectorized, \n",
    "    y_test, \n",
    "    display_labels=['r/homeassistant','r/homeautomation'],\n",
    "    cmap='inferno')\n",
    "\n",
    "plt.title('Confusion matrix of MultinomialNB')\n",
    "plt.show()"
   ]
  },
  {
   "cell_type": "markdown",
   "metadata": {},
   "source": [
    "Score table revealed that the MultinomialNB classifier was able to achieve a train-set accuracy of 94.3%, while test-set accuracy is at a lower point of 81.6%. Recall score is 0.824, with confusion matrix showing that 22 (lower left) r/homeautomation posts out of 125 (sum of 2 lower quadrants) in the test-set.\n",
    "\n",
    "When compared against the baseline predictor or naively predicting every single observation as r/homeautomation, Recall score might have dropped, but in exchange the test-set accuracy score was improved from 50.1% to 81.6%"
   ]
  },
  {
   "cell_type": "markdown",
   "metadata": {},
   "source": [
    "## Classifying subreddits with a Support Vector Machine model\n",
    "\n",
    "For our 2nd model, we will use Support Vector Machine (SVM), which attempts to find a hyperplane that divides a given dataset into its respective underlying classes. This is done with the use of support vectors (data-points derived from the words), from which the SVM algorithm would establish a hyperplane that generates the greatest margin between it and the support vectors."
   ]
  },
  {
   "cell_type": "markdown",
   "metadata": {},
   "source": [
    "### Instantiate and fit MultinomialNB\n",
    "\n",
    "First, we instantiate a Support Vector Classifier (SVC), followed by fitting:"
   ]
  },
  {
   "cell_type": "code",
   "execution_count": 20,
   "metadata": {
    "ExecuteTime": {
     "end_time": "2020-12-06T12:57:03.575763Z",
     "start_time": "2020-12-06T12:57:03.388371Z"
    }
   },
   "outputs": [
    {
     "data": {
      "text/plain": [
       "SVC(random_state=42)"
      ]
     },
     "execution_count": 20,
     "metadata": {},
     "output_type": "execute_result"
    }
   ],
   "source": [
    "svm_model_name = 'Support Vector Classifier (default)'\n",
    "svm_model = SVC(random_state=42)\n",
    "svm_model.fit(X=X_train_vectorized, y=y_train)"
   ]
  },
  {
   "cell_type": "markdown",
   "metadata": {},
   "source": [
    "### Compute Support Vector Classifier (SVC) accuracy and recall scores, and plot Confusion Matrix"
   ]
  },
  {
   "cell_type": "code",
   "execution_count": 21,
   "metadata": {
    "ExecuteTime": {
     "end_time": "2020-12-06T12:57:03.869539Z",
     "start_time": "2020-12-06T12:57:03.576738Z"
    },
    "scrolled": true
   },
   "outputs": [
    {
     "name": "stdout",
     "output_type": "stream",
     "text": [
      "SVC Train-set accuracy score: 0.9839786381842457\n",
      "SVC Test-set accuracy score: 0.816\n",
      "SVC Recall Score: 0.808\n"
     ]
    }
   ],
   "source": [
    "svm_train_acc_score = svm_model.score(X_train_vectorized, y_train)\n",
    "svm_test_acc_score = svm_model.score(X_test_vectorized, y_test)\n",
    "print('SVC Train-set accuracy score: {}'.format(svm_train_acc_score))\n",
    "print('SVC Test-set accuracy score: {}'.format(svm_test_acc_score))\n",
    "\n",
    "svm_model_recall_score = recall_score(y_test, svm_model.predict(X_test_vectorized))\n",
    "print('SVC Recall Score: {}'.format(svm_model_recall_score))"
   ]
  },
  {
   "cell_type": "code",
   "execution_count": 22,
   "metadata": {
    "ExecuteTime": {
     "end_time": "2020-12-06T12:57:03.881250Z",
     "start_time": "2020-12-06T12:57:03.871491Z"
    }
   },
   "outputs": [
    {
     "data": {
      "text/html": [
       "<div>\n",
       "<style scoped>\n",
       "    .dataframe tbody tr th:only-of-type {\n",
       "        vertical-align: middle;\n",
       "    }\n",
       "\n",
       "    .dataframe tbody tr th {\n",
       "        vertical-align: top;\n",
       "    }\n",
       "\n",
       "    .dataframe thead th {\n",
       "        text-align: right;\n",
       "    }\n",
       "</style>\n",
       "<table border=\"1\" class=\"dataframe\">\n",
       "  <thead>\n",
       "    <tr style=\"text-align: right;\">\n",
       "      <th></th>\n",
       "      <th>model_name</th>\n",
       "      <th>params</th>\n",
       "      <th>Train-Set Acc. Score</th>\n",
       "      <th>Test-Set Acc. Score</th>\n",
       "      <th>Recall Score</th>\n",
       "    </tr>\n",
       "  </thead>\n",
       "  <tbody>\n",
       "    <tr>\n",
       "      <th>0</th>\n",
       "      <td>Baseline</td>\n",
       "      <td>N.A.</td>\n",
       "      <td>50.1</td>\n",
       "      <td>50.1</td>\n",
       "      <td>N.A.</td>\n",
       "    </tr>\n",
       "    <tr>\n",
       "      <th>1</th>\n",
       "      <td>MutinomialNB (default)</td>\n",
       "      <td>alpha=1.0</td>\n",
       "      <td>94.3</td>\n",
       "      <td>81.6</td>\n",
       "      <td>0.824</td>\n",
       "    </tr>\n",
       "    <tr>\n",
       "      <th>2</th>\n",
       "      <td>Support Vector Classifier (default)</td>\n",
       "      <td>C=1.0, kernel=rbf, gamma=scale</td>\n",
       "      <td>98.4</td>\n",
       "      <td>81.6</td>\n",
       "      <td>0.808</td>\n",
       "    </tr>\n",
       "  </tbody>\n",
       "</table>\n",
       "</div>"
      ],
      "text/plain": [
       "                            model_name                          params  \\\n",
       "0                             Baseline                            N.A.   \n",
       "1               MutinomialNB (default)                       alpha=1.0   \n",
       "2  Support Vector Classifier (default)  C=1.0, kernel=rbf, gamma=scale   \n",
       "\n",
       "  Train-Set Acc. Score Test-Set Acc. Score Recall Score  \n",
       "0                 50.1                50.1         N.A.  \n",
       "1                 94.3                81.6        0.824  \n",
       "2                 98.4                81.6        0.808  "
      ]
     },
     "execution_count": 22,
     "metadata": {},
     "output_type": "execute_result"
    }
   ],
   "source": [
    "record_model_score(\n",
    "    svm_model_name,\n",
    "    'C={}, kernel={}, gamma={}'.format(svm_model.C, svm_model.kernel, svm_model.gamma),\n",
    "    svm_train_acc_score,\n",
    "    svm_test_acc_score,\n",
    "    svm_model_recall_score\n",
    ")\n",
    "model_performance_df"
   ]
  },
  {
   "cell_type": "code",
   "execution_count": 23,
   "metadata": {
    "ExecuteTime": {
     "end_time": "2020-12-06T12:57:04.190498Z",
     "start_time": "2020-12-06T12:57:03.884206Z"
    }
   },
   "outputs": [
    {
     "data": {
      "image/png": "[encoded data removed]",
      "text/plain": [
       "<Figure size 432x288 with 2 Axes>"
      ]
     },
     "metadata": {
      "needs_background": "light"
     },
     "output_type": "display_data"
    }
   ],
   "source": [
    "plot_confusion_matrix(\n",
    "    svm_model, \n",
    "    X_test_vectorized, \n",
    "    y_test, \n",
    "    display_labels=['r/homeassistant','r/homeautomation'],\n",
    "    cmap='inferno')\n",
    "\n",
    "plt.title('Confusion matrix of SVC')\n",
    "plt.show()"
   ]
  },
  {
   "cell_type": "markdown",
   "metadata": {},
   "source": [
    "While the SVC performed better (98.4%) than MultinomialNB in the train-set accuracy score, it exhibited overfitting too and arrived at the same test-set accuracy score of 81.6%. Unfornately, as shown in above confusion matrix, SVC misclassified 2 more r/homeautomation posts than MultinomialNB, hence it's recall score was 0.808, lower than that of MultinomialNB."
   ]
  },
  {
   "cell_type": "markdown",
   "metadata": {},
   "source": [
    "## Re-evaluate MultinomialNB with hyper-parameter tuning"
   ]
  },
  {
   "cell_type": "markdown",
   "metadata": {
    "ExecuteTime": {
     "end_time": "2020-12-05T08:25:25.020292Z",
     "start_time": "2020-12-05T08:25:25.004652Z"
    }
   },
   "source": [
    "For Multinomial Naive Bayes classifier, we can tune the *alpha*, which is a smoothing parameter for purpose of regularizing Naive Bayes.\n",
    "\n",
    "We use Grid Search with cross-validation to search for the best alpha over a range from 0.0 to 1.0:"
   ]
  },
  {
   "cell_type": "code",
   "execution_count": 24,
   "metadata": {
    "ExecuteTime": {
     "end_time": "2020-12-06T12:57:04.195378Z",
     "start_time": "2020-12-06T12:57:04.191474Z"
    }
   },
   "outputs": [],
   "source": [
    "# Instantiate a GridSearchCV with underlying estimator set as Multinomial Naive Bayes classifier\n",
    "# Search for optimal alpha over an arbitrary range from 0.0 to 1.0.\n",
    "# Use 5-fold cross-validation\n",
    "gscv_mnnb_name = 'MultinomialNB (GridSearchCV tuned)'\n",
    "gscv_mnnb = GridSearchCV(\n",
    "    estimator=MultinomialNB(), \n",
    "    param_grid={\n",
    "        'alpha': [0.05, 0.1, 0.25, 0.5, 0.75, 1.0]\n",
    "    }, \n",
    "    cv=5)"
   ]
  },
  {
   "cell_type": "code",
   "execution_count": 25,
   "metadata": {
    "ExecuteTime": {
     "end_time": "2020-12-06T12:57:04.277111Z",
     "start_time": "2020-12-06T12:57:04.196354Z"
    }
   },
   "outputs": [
    {
     "data": {
      "text/plain": [
       "GridSearchCV(cv=5, estimator=MultinomialNB(),\n",
       "             param_grid={'alpha': [0.05, 0.1, 0.25, 0.5, 0.75, 1.0]})"
      ]
     },
     "execution_count": 25,
     "metadata": {},
     "output_type": "execute_result"
    }
   ],
   "source": [
    "# fit the GridSearchCV\n",
    "gscv_mnnb.fit(X=X_train_vectorized, y=y_train)"
   ]
  },
  {
   "cell_type": "markdown",
   "metadata": {},
   "source": [
    "After fitting, we inspect the configuration of the best estimator that was chosen by Grid-Search:"
   ]
  },
  {
   "cell_type": "code",
   "execution_count": 26,
   "metadata": {
    "ExecuteTime": {
     "end_time": "2020-12-06T12:57:04.281991Z",
     "start_time": "2020-12-06T12:57:04.278087Z"
    }
   },
   "outputs": [
    {
     "data": {
      "text/plain": [
       "MultinomialNB(alpha=0.5)"
      ]
     },
     "execution_count": 26,
     "metadata": {},
     "output_type": "execute_result"
    }
   ],
   "source": [
    "gscv_mnnb.best_estimator_"
   ]
  },
  {
   "cell_type": "markdown",
   "metadata": {},
   "source": [
    "Apparrently Grid-Search with cross-validation has yielded optimal alpha to be 0.5, so we perform the scoring as follows:"
   ]
  },
  {
   "cell_type": "code",
   "execution_count": 27,
   "metadata": {
    "ExecuteTime": {
     "end_time": "2020-12-06T12:57:04.359095Z",
     "start_time": "2020-12-06T12:57:04.282967Z"
    }
   },
   "outputs": [
    {
     "name": "stdout",
     "output_type": "stream",
     "text": [
      "GridSearchCV (MultinomialNB with alpha=0.5) train-set accuracy score: 0.951935914552737\n",
      "GridSearchCV (MultinomialNB with alpha=0.5) test-set accuracy score: 0.812\n",
      "GridSearchCV (MultinomialNB with alpha=0.5) Recall Score: 0.816\n"
     ]
    }
   ],
   "source": [
    "gscv_mnnb_train_accuracy_score = gscv_mnnb.best_estimator_.score(X_train_vectorized, y_train)\n",
    "gscv_mnnb_test_accuracy_score = gscv_mnnb.best_estimator_.score(X_test_vectorized, y_test)\n",
    "\n",
    "print('GridSearchCV (MultinomialNB with alpha=0.5) train-set accuracy score: {}'.format(gscv_mnnb_train_accuracy_score))\n",
    "print('GridSearchCV (MultinomialNB with alpha=0.5) test-set accuracy score: {}'.format(gscv_mnnb_test_accuracy_score))\n",
    "\n",
    "gscv_mnnb_recall_score = recall_score(y_test, gscv_mnnb.best_estimator_.predict(X_test_vectorized))\n",
    "print('GridSearchCV (MultinomialNB with alpha=0.5) Recall Score: {}'.format(gscv_mnnb_recall_score))"
   ]
  },
  {
   "cell_type": "code",
   "execution_count": 28,
   "metadata": {
    "ExecuteTime": {
     "end_time": "2020-12-06T12:57:04.435222Z",
     "start_time": "2020-12-06T12:57:04.360070Z"
    }
   },
   "outputs": [
    {
     "data": {
      "text/html": [
       "<div>\n",
       "<style scoped>\n",
       "    .dataframe tbody tr th:only-of-type {\n",
       "        vertical-align: middle;\n",
       "    }\n",
       "\n",
       "    .dataframe tbody tr th {\n",
       "        vertical-align: top;\n",
       "    }\n",
       "\n",
       "    .dataframe thead th {\n",
       "        text-align: right;\n",
       "    }\n",
       "</style>\n",
       "<table border=\"1\" class=\"dataframe\">\n",
       "  <thead>\n",
       "    <tr style=\"text-align: right;\">\n",
       "      <th></th>\n",
       "      <th>model_name</th>\n",
       "      <th>params</th>\n",
       "      <th>Train-Set Acc. Score</th>\n",
       "      <th>Test-Set Acc. Score</th>\n",
       "      <th>Recall Score</th>\n",
       "    </tr>\n",
       "  </thead>\n",
       "  <tbody>\n",
       "    <tr>\n",
       "      <th>0</th>\n",
       "      <td>Baseline</td>\n",
       "      <td>N.A.</td>\n",
       "      <td>50.1</td>\n",
       "      <td>50.1</td>\n",
       "      <td>N.A.</td>\n",
       "    </tr>\n",
       "    <tr>\n",
       "      <th>1</th>\n",
       "      <td>MutinomialNB (default)</td>\n",
       "      <td>alpha=1.0</td>\n",
       "      <td>94.3</td>\n",
       "      <td>81.6</td>\n",
       "      <td>0.824</td>\n",
       "    </tr>\n",
       "    <tr>\n",
       "      <th>2</th>\n",
       "      <td>Support Vector Classifier (default)</td>\n",
       "      <td>C=1.0, kernel=rbf, gamma=scale</td>\n",
       "      <td>98.4</td>\n",
       "      <td>81.6</td>\n",
       "      <td>0.808</td>\n",
       "    </tr>\n",
       "    <tr>\n",
       "      <th>3</th>\n",
       "      <td>MultinomialNB (GridSearchCV tuned)</td>\n",
       "      <td>{'alpha': 0.5}</td>\n",
       "      <td>95.2</td>\n",
       "      <td>81.2</td>\n",
       "      <td>0.816</td>\n",
       "    </tr>\n",
       "  </tbody>\n",
       "</table>\n",
       "</div>"
      ],
      "text/plain": [
       "                            model_name                          params  \\\n",
       "0                             Baseline                            N.A.   \n",
       "1               MutinomialNB (default)                       alpha=1.0   \n",
       "2  Support Vector Classifier (default)  C=1.0, kernel=rbf, gamma=scale   \n",
       "3   MultinomialNB (GridSearchCV tuned)                  {'alpha': 0.5}   \n",
       "\n",
       "  Train-Set Acc. Score Test-Set Acc. Score Recall Score  \n",
       "0                 50.1                50.1         N.A.  \n",
       "1                 94.3                81.6        0.824  \n",
       "2                 98.4                81.6        0.808  \n",
       "3                 95.2                81.2        0.816  "
      ]
     },
     "execution_count": 28,
     "metadata": {},
     "output_type": "execute_result"
    }
   ],
   "source": [
    "record_model_score(\n",
    "    gscv_mnnb_name,\n",
    "    '{}'.format(gscv_mnnb.best_params_),\n",
    "    gscv_mnnb_train_accuracy_score,\n",
    "    gscv_mnnb_test_accuracy_score,\n",
    "    gscv_mnnb_recall_score\n",
    ")\n",
    "model_performance_df"
   ]
  },
  {
   "cell_type": "code",
   "execution_count": 29,
   "metadata": {
    "ExecuteTime": {
     "end_time": "2020-12-06T12:57:04.631636Z",
     "start_time": "2020-12-06T12:57:04.436198Z"
    }
   },
   "outputs": [
    {
     "data": {
      "image/png": "[encoded data removed]",
      "text/plain": [
       "<Figure size 432x288 with 2 Axes>"
      ]
     },
     "metadata": {
      "needs_background": "light"
     },
     "output_type": "display_data"
    }
   ],
   "source": [
    "plot_confusion_matrix(\n",
    "    gscv_mnnb.best_estimator_, \n",
    "    X_test_vectorized, \n",
    "    y_test, \n",
    "    display_labels=['r/homeassistant','r/homeautomation'],\n",
    "    cmap='inferno')\n",
    "\n",
    "plt.title('Confusion matrix of GridSearchCV (MultinomialNB with alpha=0.5)')\n",
    "plt.show()"
   ]
  },
  {
   "cell_type": "markdown",
   "metadata": {},
   "source": [
    "While train-set accuracy score for this tuned MultinomialNB classifier (95.2%) was better than the earlier one with default parameters (94.3%), the test-set accuracy score declined very slightly from 81.6% to the current 81.2%.\n",
    "\n",
    "When compared with Support Vector Classifier, this tuned MultinomialNB classifier fared poorer on both train-set and test-set accuracy scores, but the recall score was marginally better, as the confusion matrix showed that it misclassified 23 r/homeautomation posts, 1 less than that of Support Vector Classifier."
   ]
  },
  {
   "cell_type": "markdown",
   "metadata": {},
   "source": [
    "## Re-evaluate Support Vector Classifier with hyper-parameter tuning\n",
    "\n",
    "We also tune the hyper-parameters in the Support Vector Classifier to determine if there would be any improvement in performance:"
   ]
  },
  {
   "cell_type": "code",
   "execution_count": 30,
   "metadata": {
    "ExecuteTime": {
     "end_time": "2020-12-06T12:57:04.637460Z",
     "start_time": "2020-12-06T12:57:04.632579Z"
    }
   },
   "outputs": [],
   "source": [
    "# Instantiate a GridSearchCV with underlying estimator set as SVC\n",
    "# Search for optimal C, kernel and gamma values\n",
    "# Use 5-fold cross-validation\n",
    "\n",
    "gscv_svc_name = 'Support Vector Classifier (GridSearchCV tuned)'\n",
    "gscv_svc = GridSearchCV(\n",
    "    estimator=SVC(),\n",
    "    param_grid={\n",
    "        'C': [0.05, 0.1, 0.5, 1.0, 5.0, 10, 50],\n",
    "        'kernel': ['linear', 'poly', 'rbf', 'sigmoid'],\n",
    "        'gamma': ['scale', 'auto'],\n",
    "    },\n",
    "    cv=5\n",
    ")"
   ]
  },
  {
   "cell_type": "code",
   "execution_count": 31,
   "metadata": {
    "ExecuteTime": {
     "end_time": "2020-12-06T12:57:44.154339Z",
     "start_time": "2020-12-06T12:57:04.638435Z"
    }
   },
   "outputs": [
    {
     "data": {
      "text/plain": [
       "GridSearchCV(cv=5, estimator=SVC(),\n",
       "             param_grid={'C': [0.05, 0.1, 0.5, 1.0, 5.0, 10, 50],\n",
       "                         'gamma': ['scale', 'auto'],\n",
       "                         'kernel': ['linear', 'poly', 'rbf', 'sigmoid']})"
      ]
     },
     "execution_count": 31,
     "metadata": {},
     "output_type": "execute_result"
    }
   ],
   "source": [
    "gscv_svc.fit(X=X_train_vectorized, y=y_train)"
   ]
  },
  {
   "cell_type": "markdown",
   "metadata": {},
   "source": [
    "After fitting, we inspect the configuration of the best estimator that was chosen by Grid-Search:"
   ]
  },
  {
   "cell_type": "code",
   "execution_count": 32,
   "metadata": {
    "ExecuteTime": {
     "end_time": "2020-12-06T12:57:44.160224Z",
     "start_time": "2020-12-06T12:57:44.155314Z"
    }
   },
   "outputs": [
    {
     "data": {
      "text/plain": [
       "SVC(C=0.5, kernel='sigmoid')"
      ]
     },
     "execution_count": 32,
     "metadata": {},
     "output_type": "execute_result"
    }
   ],
   "source": [
    "gscv_svc.best_estimator_"
   ]
  },
  {
   "cell_type": "markdown",
   "metadata": {},
   "source": [
    "Grid-Search with cross-validation has yielded optimal kernel to be *sigmoid*, and C to be 0.5 (inverse of regularization strength, i.e. strong regularization than default SVC with C=1.0), so we perform the scoring as follows:"
   ]
  },
  {
   "cell_type": "code",
   "execution_count": 33,
   "metadata": {
    "ExecuteTime": {
     "end_time": "2020-12-06T12:57:44.438393Z",
     "start_time": "2020-12-06T12:57:44.161169Z"
    }
   },
   "outputs": [
    {
     "name": "stdout",
     "output_type": "stream",
     "text": [
      "GridSearchCV (SVC w/ sigmoid kernel, C=0.5) train-set accuracy score: 0.9185580774365821\n",
      "GridSearchCV (SVC w/ sigmoid kernel, C=0.5) test-set accuracy score: 0.816\n",
      "GridSearchCV (SVC w/ sigmoid kernel, C=0.5) Recall Score: 0.824\n"
     ]
    }
   ],
   "source": [
    "gscv_svc_train_accuracy_score = gscv_svc.best_estimator_.score(X_train_vectorized, y_train)\n",
    "gscv_svc_test_accuracy_score = gscv_svc.best_estimator_.score(X_test_vectorized, y_test)\n",
    "\n",
    "print('GridSearchCV (SVC w/ sigmoid kernel, C=0.5) train-set accuracy score: {}'.format(gscv_svc_train_accuracy_score))\n",
    "print('GridSearchCV (SVC w/ sigmoid kernel, C=0.5) test-set accuracy score: {}'.format(gscv_svc_test_accuracy_score))\n",
    "\n",
    "gscv_svc_model_recall_score = recall_score(y_test, gscv_svc.best_estimator_.predict(X_test_vectorized))\n",
    "print('GridSearchCV (SVC w/ sigmoid kernel, C=0.5) Recall Score: {}'.format(gscv_svc_model_recall_score))"
   ]
  },
  {
   "cell_type": "code",
   "execution_count": 34,
   "metadata": {
    "ExecuteTime": {
     "end_time": "2020-12-06T12:57:44.451080Z",
     "start_time": "2020-12-06T12:57:44.439369Z"
    }
   },
   "outputs": [
    {
     "data": {
      "text/html": [
       "<div>\n",
       "<style scoped>\n",
       "    .dataframe tbody tr th:only-of-type {\n",
       "        vertical-align: middle;\n",
       "    }\n",
       "\n",
       "    .dataframe tbody tr th {\n",
       "        vertical-align: top;\n",
       "    }\n",
       "\n",
       "    .dataframe thead th {\n",
       "        text-align: right;\n",
       "    }\n",
       "</style>\n",
       "<table border=\"1\" class=\"dataframe\">\n",
       "  <thead>\n",
       "    <tr style=\"text-align: right;\">\n",
       "      <th></th>\n",
       "      <th>model_name</th>\n",
       "      <th>params</th>\n",
       "      <th>Train-Set Acc. Score</th>\n",
       "      <th>Test-Set Acc. Score</th>\n",
       "      <th>Recall Score</th>\n",
       "    </tr>\n",
       "  </thead>\n",
       "  <tbody>\n",
       "    <tr>\n",
       "      <th>0</th>\n",
       "      <td>Baseline</td>\n",
       "      <td>N.A.</td>\n",
       "      <td>50.1</td>\n",
       "      <td>50.1</td>\n",
       "      <td>N.A.</td>\n",
       "    </tr>\n",
       "    <tr>\n",
       "      <th>1</th>\n",
       "      <td>MutinomialNB (default)</td>\n",
       "      <td>alpha=1.0</td>\n",
       "      <td>94.3</td>\n",
       "      <td>81.6</td>\n",
       "      <td>0.824</td>\n",
       "    </tr>\n",
       "    <tr>\n",
       "      <th>2</th>\n",
       "      <td>Support Vector Classifier (default)</td>\n",
       "      <td>C=1.0, kernel=rbf, gamma=scale</td>\n",
       "      <td>98.4</td>\n",
       "      <td>81.6</td>\n",
       "      <td>0.808</td>\n",
       "    </tr>\n",
       "    <tr>\n",
       "      <th>3</th>\n",
       "      <td>MultinomialNB (GridSearchCV tuned)</td>\n",
       "      <td>{'alpha': 0.5}</td>\n",
       "      <td>95.2</td>\n",
       "      <td>81.2</td>\n",
       "      <td>0.816</td>\n",
       "    </tr>\n",
       "    <tr>\n",
       "      <th>4</th>\n",
       "      <td>Support Vector Classifier (GridSearchCV tuned)</td>\n",
       "      <td>{'C': 0.5, 'gamma': 'scale', 'kernel': 'sigmoid'}</td>\n",
       "      <td>91.9</td>\n",
       "      <td>81.6</td>\n",
       "      <td>0.824</td>\n",
       "    </tr>\n",
       "  </tbody>\n",
       "</table>\n",
       "</div>"
      ],
      "text/plain": [
       "                                       model_name  \\\n",
       "0                                        Baseline   \n",
       "1                          MutinomialNB (default)   \n",
       "2             Support Vector Classifier (default)   \n",
       "3              MultinomialNB (GridSearchCV tuned)   \n",
       "4  Support Vector Classifier (GridSearchCV tuned)   \n",
       "\n",
       "                                              params Train-Set Acc. Score  \\\n",
       "0                                               N.A.                 50.1   \n",
       "1                                          alpha=1.0                 94.3   \n",
       "2                     C=1.0, kernel=rbf, gamma=scale                 98.4   \n",
       "3                                     {'alpha': 0.5}                 95.2   \n",
       "4  {'C': 0.5, 'gamma': 'scale', 'kernel': 'sigmoid'}                 91.9   \n",
       "\n",
       "  Test-Set Acc. Score Recall Score  \n",
       "0                50.1         N.A.  \n",
       "1                81.6        0.824  \n",
       "2                81.6        0.808  \n",
       "3                81.2        0.816  \n",
       "4                81.6        0.824  "
      ]
     },
     "execution_count": 34,
     "metadata": {},
     "output_type": "execute_result"
    }
   ],
   "source": [
    "record_model_score(\n",
    "    gscv_svc_name,\n",
    "    '{}'.format(gscv_svc.best_params_),\n",
    "    gscv_svc_train_accuracy_score,\n",
    "    gscv_svc_test_accuracy_score,\n",
    "    gscv_svc_model_recall_score\n",
    ")\n",
    "model_performance_df"
   ]
  },
  {
   "cell_type": "code",
   "execution_count": 35,
   "metadata": {
    "ExecuteTime": {
     "end_time": "2020-12-06T12:57:44.710696Z",
     "start_time": "2020-12-06T12:57:44.452057Z"
    }
   },
   "outputs": [
    {
     "data": {
      "image/png": "[encoded data removed]",
      "text/plain": [
       "<Figure size 432x288 with 2 Axes>"
      ]
     },
     "metadata": {
      "needs_background": "light"
     },
     "output_type": "display_data"
    }
   ],
   "source": [
    "plot_confusion_matrix(\n",
    "    gscv_svc.best_estimator_, \n",
    "    X_test_vectorized, \n",
    "    y_test, \n",
    "    display_labels=['r/homeassistant','r/homeautomation'],\n",
    "    cmap='inferno')\n",
    "\n",
    "plt.title('Confusion matrix of GridSearchCV (SVC with sigmoid kernel, C=0.5)')\n",
    "plt.show()"
   ]
  },
  {
   "cell_type": "markdown",
   "metadata": {},
   "source": [
    "Somehow, the train-set accuracy was the poorest among all fitted classifier models, being at 91.9%. However, test-set accuracy is on par with both MultinomialNB and SVC on default parameters. \n",
    "\n",
    "Recall score was also able to match the first MultinomialNB classifier, i.e. it also had 22 misclassified r/homeautomation posts, the lowest quanity alongide MultinomialNB on default parameters."
   ]
  },
  {
   "cell_type": "markdown",
   "metadata": {},
   "source": [
    "## Selection of final model"
   ]
  },
  {
   "cell_type": "code",
   "execution_count": 36,
   "metadata": {
    "ExecuteTime": {
     "end_time": "2020-12-06T12:57:44.720456Z",
     "start_time": "2020-12-06T12:57:44.711672Z"
    }
   },
   "outputs": [
    {
     "data": {
      "text/html": [
       "<div>\n",
       "<style scoped>\n",
       "    .dataframe tbody tr th:only-of-type {\n",
       "        vertical-align: middle;\n",
       "    }\n",
       "\n",
       "    .dataframe tbody tr th {\n",
       "        vertical-align: top;\n",
       "    }\n",
       "\n",
       "    .dataframe thead th {\n",
       "        text-align: right;\n",
       "    }\n",
       "</style>\n",
       "<table border=\"1\" class=\"dataframe\">\n",
       "  <thead>\n",
       "    <tr style=\"text-align: right;\">\n",
       "      <th></th>\n",
       "      <th>model_name</th>\n",
       "      <th>params</th>\n",
       "      <th>Train-Set Acc. Score</th>\n",
       "      <th>Test-Set Acc. Score</th>\n",
       "      <th>Recall Score</th>\n",
       "    </tr>\n",
       "  </thead>\n",
       "  <tbody>\n",
       "    <tr>\n",
       "      <th>0</th>\n",
       "      <td>Baseline</td>\n",
       "      <td>N.A.</td>\n",
       "      <td>50.1</td>\n",
       "      <td>50.1</td>\n",
       "      <td>N.A.</td>\n",
       "    </tr>\n",
       "    <tr>\n",
       "      <th>1</th>\n",
       "      <td>MutinomialNB (default)</td>\n",
       "      <td>alpha=1.0</td>\n",
       "      <td>94.3</td>\n",
       "      <td>81.6</td>\n",
       "      <td>0.824</td>\n",
       "    </tr>\n",
       "    <tr>\n",
       "      <th>2</th>\n",
       "      <td>Support Vector Classifier (default)</td>\n",
       "      <td>C=1.0, kernel=rbf, gamma=scale</td>\n",
       "      <td>98.4</td>\n",
       "      <td>81.6</td>\n",
       "      <td>0.808</td>\n",
       "    </tr>\n",
       "    <tr>\n",
       "      <th>3</th>\n",
       "      <td>MultinomialNB (GridSearchCV tuned)</td>\n",
       "      <td>{'alpha': 0.5}</td>\n",
       "      <td>95.2</td>\n",
       "      <td>81.2</td>\n",
       "      <td>0.816</td>\n",
       "    </tr>\n",
       "    <tr>\n",
       "      <th>4</th>\n",
       "      <td>Support Vector Classifier (GridSearchCV tuned)</td>\n",
       "      <td>{'C': 0.5, 'gamma': 'scale', 'kernel': 'sigmoid'}</td>\n",
       "      <td>91.9</td>\n",
       "      <td>81.6</td>\n",
       "      <td>0.824</td>\n",
       "    </tr>\n",
       "  </tbody>\n",
       "</table>\n",
       "</div>"
      ],
      "text/plain": [
       "                                       model_name  \\\n",
       "0                                        Baseline   \n",
       "1                          MutinomialNB (default)   \n",
       "2             Support Vector Classifier (default)   \n",
       "3              MultinomialNB (GridSearchCV tuned)   \n",
       "4  Support Vector Classifier (GridSearchCV tuned)   \n",
       "\n",
       "                                              params Train-Set Acc. Score  \\\n",
       "0                                               N.A.                 50.1   \n",
       "1                                          alpha=1.0                 94.3   \n",
       "2                     C=1.0, kernel=rbf, gamma=scale                 98.4   \n",
       "3                                     {'alpha': 0.5}                 95.2   \n",
       "4  {'C': 0.5, 'gamma': 'scale', 'kernel': 'sigmoid'}                 91.9   \n",
       "\n",
       "  Test-Set Acc. Score Recall Score  \n",
       "0                50.1         N.A.  \n",
       "1                81.6        0.824  \n",
       "2                81.6        0.808  \n",
       "3                81.2        0.816  \n",
       "4                81.6        0.824  "
      ]
     },
     "execution_count": 36,
     "metadata": {},
     "output_type": "execute_result"
    }
   ],
   "source": [
    "model_performance_df"
   ]
  },
  {
   "cell_type": "markdown",
   "metadata": {},
   "source": [
    "We eventually settle on Multinomial Naive Bayes classifier with default parameters (alpha=1.0) as the final choice for classification of r/homeautomation posts, in view that it is a simple model that is fast and easy to train, with about 81.6% accuracy on unseen data and recall score of 0.824 being best among the models attempted in this project."
   ]
  },
  {
   "cell_type": "markdown",
   "metadata": {},
   "source": [
    "## Top 20 most important features in MultinomialNB model, class-wise\n",
    "\n",
    "We take a look at the top 20 most important features that were prioritised by the final Multinomial Naive Bayes model for classifying posts, class-wise:"
   ]
  },
  {
   "cell_type": "code",
   "execution_count": 37,
   "metadata": {
    "ExecuteTime": {
     "end_time": "2020-12-06T12:57:44.746808Z",
     "start_time": "2020-12-06T12:57:44.722408Z"
    },
    "scrolled": false
   },
   "outputs": [
    {
     "data": {
      "text/html": [
       "<div>\n",
       "<style scoped>\n",
       "    .dataframe tbody tr th:only-of-type {\n",
       "        vertical-align: middle;\n",
       "    }\n",
       "\n",
       "    .dataframe tbody tr th {\n",
       "        vertical-align: top;\n",
       "    }\n",
       "\n",
       "    .dataframe thead th {\n",
       "        text-align: right;\n",
       "    }\n",
       "</style>\n",
       "<table border=\"1\" class=\"dataframe\">\n",
       "  <thead>\n",
       "    <tr style=\"text-align: right;\">\n",
       "      <th></th>\n",
       "      <th>r/homeassistant top 20 most important features (MultinomialNB model)</th>\n",
       "      <th>r/homeautomation top 20 most important features (MultinomialNB model)</th>\n",
       "    </tr>\n",
       "  </thead>\n",
       "  <tbody>\n",
       "    <tr>\n",
       "      <th>0</th>\n",
       "      <td>ha</td>\n",
       "      <td>smart</td>\n",
       "    </tr>\n",
       "    <tr>\n",
       "      <th>1</th>\n",
       "      <td>home</td>\n",
       "      <td>switch</td>\n",
       "    </tr>\n",
       "    <tr>\n",
       "      <th>2</th>\n",
       "      <td>device</td>\n",
       "      <td>light</td>\n",
       "    </tr>\n",
       "    <tr>\n",
       "      <th>3</th>\n",
       "      <td>sensor</td>\n",
       "      <td>bulb</td>\n",
       "    </tr>\n",
       "    <tr>\n",
       "      <th>4</th>\n",
       "      <td>assistant</td>\n",
       "      <td>home</td>\n",
       "    </tr>\n",
       "    <tr>\n",
       "      <th>5</th>\n",
       "      <td>integration</td>\n",
       "      <td>sensor</td>\n",
       "    </tr>\n",
       "    <tr>\n",
       "      <th>6</th>\n",
       "      <td>using</td>\n",
       "      <td>plug</td>\n",
       "    </tr>\n",
       "    <tr>\n",
       "      <th>7</th>\n",
       "      <td>use</td>\n",
       "      <td>work</td>\n",
       "    </tr>\n",
       "    <tr>\n",
       "      <th>8</th>\n",
       "      <td>zigbee</td>\n",
       "      <td>looking</td>\n",
       "    </tr>\n",
       "    <tr>\n",
       "      <th>9</th>\n",
       "      <td>switch</td>\n",
       "      <td>google</td>\n",
       "    </tr>\n",
       "    <tr>\n",
       "      <th>10</th>\n",
       "      <td>light</td>\n",
       "      <td>way</td>\n",
       "    </tr>\n",
       "    <tr>\n",
       "      <th>11</th>\n",
       "      <td>work</td>\n",
       "      <td>want</td>\n",
       "    </tr>\n",
       "    <tr>\n",
       "      <th>12</th>\n",
       "      <td>card</td>\n",
       "      <td>use</td>\n",
       "    </tr>\n",
       "    <tr>\n",
       "      <th>13</th>\n",
       "      <td>it</td>\n",
       "      <td>hub</td>\n",
       "    </tr>\n",
       "    <tr>\n",
       "      <th>14</th>\n",
       "      <td>new</td>\n",
       "      <td>house</td>\n",
       "    </tr>\n",
       "    <tr>\n",
       "      <th>15</th>\n",
       "      <td>pi</td>\n",
       "      <td>wifi</td>\n",
       "    </tr>\n",
       "    <tr>\n",
       "      <th>16</th>\n",
       "      <td>control</td>\n",
       "      <td>device</td>\n",
       "    </tr>\n",
       "    <tr>\n",
       "      <th>17</th>\n",
       "      <td>homeassistant</td>\n",
       "      <td>need</td>\n",
       "    </tr>\n",
       "    <tr>\n",
       "      <th>18</th>\n",
       "      <td>way</td>\n",
       "      <td>turn</td>\n",
       "    </tr>\n",
       "    <tr>\n",
       "      <th>19</th>\n",
       "      <td>know</td>\n",
       "      <td>what</td>\n",
       "    </tr>\n",
       "  </tbody>\n",
       "</table>\n",
       "</div>"
      ],
      "text/plain": [
       "   r/homeassistant top 20 most important features (MultinomialNB model)  \\\n",
       "0                                                  ha                     \n",
       "1                                                home                     \n",
       "2                                              device                     \n",
       "3                                              sensor                     \n",
       "4                                           assistant                     \n",
       "5                                         integration                     \n",
       "6                                               using                     \n",
       "7                                                 use                     \n",
       "8                                              zigbee                     \n",
       "9                                              switch                     \n",
       "10                                              light                     \n",
       "11                                               work                     \n",
       "12                                               card                     \n",
       "13                                                 it                     \n",
       "14                                                new                     \n",
       "15                                                 pi                     \n",
       "16                                            control                     \n",
       "17                                      homeassistant                     \n",
       "18                                                way                     \n",
       "19                                               know                     \n",
       "\n",
       "   r/homeautomation top 20 most important features (MultinomialNB model)  \n",
       "0                                               smart                     \n",
       "1                                              switch                     \n",
       "2                                               light                     \n",
       "3                                                bulb                     \n",
       "4                                                home                     \n",
       "5                                              sensor                     \n",
       "6                                                plug                     \n",
       "7                                                work                     \n",
       "8                                             looking                     \n",
       "9                                              google                     \n",
       "10                                                way                     \n",
       "11                                               want                     \n",
       "12                                                use                     \n",
       "13                                                hub                     \n",
       "14                                              house                     \n",
       "15                                               wifi                     \n",
       "16                                             device                     \n",
       "17                                               need                     \n",
       "18                                               turn                     \n",
       "19                                               what                     "
      ]
     },
     "execution_count": 37,
     "metadata": {},
     "output_type": "execute_result"
    }
   ],
   "source": [
    "#probabilities for positive class\n",
    "pos_class_prob_sorted = mnnb_model.feature_log_prob_[1, :].argsort()\n",
    "#probabilities for negative class\n",
    "neg_class_prob_sorted = mnnb_model.feature_log_prob_[0, :].argsort()\n",
    "\n",
    "# ascending order, meaning most important features are at tail-end of respective lists\n",
    "neg_top_features_ascending = np.take(tvec.get_feature_names(), neg_class_prob_sorted)\n",
    "pos_top_features_ascending = np.take(tvec.get_feature_names(), pos_class_prob_sorted)\n",
    "\n",
    "pd.DataFrame({\n",
    "    'r/homeassistant top 20 most important features (MultinomialNB model)': neg_top_features_ascending[::-1][:20], \n",
    "    'r/homeautomation top 20 most important features (MultinomialNB model)':pos_top_features_ascending[::-1][:20]\n",
    "})"
   ]
  },
  {
   "cell_type": "markdown",
   "metadata": {},
   "source": [
    "There are much similarities with the top 20 most frequently occurring terms in both subreddits, as analysed in the previous *Data Cleaning & Analysis* notebook, reinforcing the fact that a classifier model would likely rely on popular, mutually class-exclusive (where possible) terms to carry out prediction."
   ]
  },
  {
   "cell_type": "markdown",
   "metadata": {},
   "source": [
    "# Conclusion"
   ]
  },
  {
   "cell_type": "markdown",
   "metadata": {},
   "source": [
    "## Key Takeaways:\n",
    "\n",
    "- *Data Collection* phase began with scraping of the Reddit JSON API and it yielded 501 posts from each subreddit (r/homeassistant and r/homeautomation), with a reasonable delay of between 10 to 60 seconds per requests. *Data Cleaning* phase revealed some r/homeassistant posts containing programmatic code, which could impact text analysis efforts. Both subreddits had a proportion of their posts containing only titles, as they did not see any further need to elaborate on their posts within the main body.\n",
    "\n",
    "\n",
    "- In the *Data Analysis* phase, distributions for word counts of titles and posts where charted out, but both subreddits did not show any significant differences in terms of content length.\n",
    "\n",
    "\n",
    "- During wordcloud and top 20 frequently-used words analysis, it indicated that users in r/homeassistant were centered around tinkering with code and individual components (e.g. single-board computers, wireless modules, sensors, etc) to create new or enhance existing devices. On the otherhand, r/homeautmation posts tended towards smart-home devices that are well known consumer brands on the market, without having to go to the level of crafting a smart-home device together from separate parts. All in all, r/homeassistant seem to be attracting hobby electronic enthusiasts, while r/homeautomation is a more suitable place for typical consumers of tech gadgets.\n",
    "\n",
    "\n",
    "- In the *Pre-processing* phase, Term Frequency-Inverse Document Frequency vectorizer was used to tranform our text data into vectors. r/homeautomation was set as the positive class as it fulfilled the business requirement of our company wanting to explore issues faced by owners/prospective buyers of smart-home devices. Scoring metrics were determined to be test-set accuracy score and recall score.\n",
    "\n",
    "\n",
    "- In the *Model Creation & Benchmarking* phase, Multinomial Naive Bayes classifier and Support Vector classifier were modeled, fitted and scored, eventually showing that the Multinomial Naive Bayes classifier performed slightly better in terms of test-set accuracy score. Our decision to optimize for sensitivity was justified by our need to minimize misclassification of r/homeautomation posts (false negatives) in order not to miss out on any possible valuable insights offered in this subreddit. Hence, we focussed on Recall Score, and the Multinomial Naive Bayes classifier proved to be the better one.\n",
    "\n",
    "\n",
    "- Subsequent efforts to tune the Multinomial Naive Bayes classifier and Support Vector Classifier did not yield significantly better results, especially in terms of test-set accuracy score and recall score. The tuned Support Vector Classifier (sigmoid kernel, C=0.5) yielded test-set accuracy and recall scores that were, at best, on par with the original Multinomial Naive Bayes classifier on default parameters (alpha=1.0, i.e. with strongest possible regularization).  \n",
    "\n",
    "\n",
    "- In favor of the simpler model that was faster to train at the same time, we selected the Multinomial Naive Bayes classifier (alpha=1.0) as our choice model for classification of incoming content from the 2 subreddits, with the aim of identifying r/homeautomation posts to further our business objectives."
   ]
  },
  {
   "cell_type": "markdown",
   "metadata": {},
   "source": [
    "## Recommendations\n",
    "\n",
    "- r/homeassistant presented a challenge in terms of it containing programmatic code in the post body, as this might impact text analysis, which is conventionally performed on English sentences. Further exploration could be done to see if removal of such programmatic code could aid the classifier in any manner of better differentiating between the subreddits.\n",
    "\n",
    "\n",
    "- Include scraping of comments to posts for analysis and feature engineering, as they have the potential to help the model classify better."
   ]
  }
 ],
 "metadata": {
  "kernelspec": {
   "display_name": "Python 3",
   "language": "python",
   "name": "python3"
  },
  "language_info": {
   "codemirror_mode": {
    "name": "ipython",
    "version": 3
   },
   "file_extension": ".py",
   "mimetype": "text/x-python",
   "name": "python",
   "nbconvert_exporter": "python",
   "pygments_lexer": "ipython3",
   "version": "3.8.3"
  },
  "toc": {
   "base_numbering": 1,
   "nav_menu": {},
   "number_sections": true,
   "sideBar": true,
   "skip_h1_title": false,
   "title_cell": "Table of Contents",
   "title_sidebar": "Contents",
   "toc_cell": false,
   "toc_position": {},
   "toc_section_display": true,
   "toc_window_display": true
  }
 },
 "nbformat": 4,
 "nbformat_minor": 4
}
